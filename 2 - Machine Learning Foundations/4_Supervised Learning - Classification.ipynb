{
 "cells": [
  {
   "cell_type": "markdown",
   "id": "3589164d",
   "metadata": {},
   "source": [
    "## Supervised Learning: Classification"
   ]
  },
  {
   "cell_type": "markdown",
   "id": "d9a1f919",
   "metadata": {},
   "source": [
    "## Types of Supervised Learning\n",
    "### Supervised learning -> continous - Categorical\n",
    "##### Continous - > Regression: \n",
    "House Price Predicator\n",
    "##### Categorical -> classification ->  Binary - Multi-Class\n",
    "##### Binary \n",
    "spam Detecor \n",
    "#### Multi-Class\n",
    "senttiment Analysis"
   ]
  },
  {
   "cell_type": "markdown",
   "id": "bc9667de",
   "metadata": {},
   "source": [
    "## Classification\n",
    "a supervised ML technique used to categorize or assign data points into predefined classes based on their features or attributes\n",
    "\n",
    "###  Example: \n",
    "spam Classifier for emails\n",
    "\n",
    "## Logistic Regression\n",
    "logistic Regression helps in predicting something is true or false instead of predicating something continous such as the house prices.\n",
    "\n",
    "A model built using logistic regression  can be used for classification.\n",
    "\n",
    "While predicting, the probibilties of a student  passing or failing the test is computed.\n",
    "\n",
    "\n"
   ]
  },
  {
   "cell_type": "code",
   "execution_count": null,
   "id": "f215683b",
   "metadata": {
    "vscode": {
     "languageId": "plaintext"
    }
   },
   "outputs": [],
   "source": []
  }
 ],
 "metadata": {
  "language_info": {
   "name": "python"
  }
 },
 "nbformat": 4,
 "nbformat_minor": 5
}
