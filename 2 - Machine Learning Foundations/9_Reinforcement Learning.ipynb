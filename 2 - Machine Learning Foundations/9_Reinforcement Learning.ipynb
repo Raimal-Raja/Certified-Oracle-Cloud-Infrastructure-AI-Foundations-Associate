{
 "cells": [
  {
   "cell_type": "markdown",
   "id": "a33d9c25",
   "metadata": {},
   "source": [
    "## Reinforcement Learning\n",
    "A type of  Machine Leaning that enables an agent to learn from it's interactions with the environment\n",
    "\n",
    "Receive Feedback in the form of rewards or penalties, without any labeled dataset\n",
    "\n",
    "### Examples\n",
    "1 -  Autonomous vehicles\n",
    "2 - Smart devices\n",
    "3 - industerial automation\n",
    "4 - Gaming and entertainment\n",
    "\n",
    "## Terminologies in RL\n",
    "### Agent\n",
    "Interact with environment, takes actions, learn from feedback\n",
    "### Environment\n",
    "Externals systen with which the agent interacts\n",
    "### State\n",
    "Representation of the current situation of the environment at a particular time\n",
    "\n",
    "### Action \n",
    "Possible moves or decision that the agent can take in each state\n",
    "### Policy\n",
    "Mapping that the agent uses to decide which action to take in a given state"
   ]
  },
  {
   "cell_type": "markdown",
   "id": "bb832a4a",
   "metadata": {},
   "source": [
    "## RL Trainning Loop\n",
    "Goal is to find a policy that will yield a lot of rewards for the agent.\n",
    "\n",
    "Optimal policy is learned through training by using algorithms like Q learning or Deep Q learning."
   ]
  }
 ],
 "metadata": {
  "language_info": {
   "name": "python"
  }
 },
 "nbformat": 4,
 "nbformat_minor": 5
}
