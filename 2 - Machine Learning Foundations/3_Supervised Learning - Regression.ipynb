{
 "cells": [
  {
   "cell_type": "markdown",
   "id": "2c85c5f4",
   "metadata": {},
   "source": [
    "## Supervised learning: Regression\n",
    "Machine learning model that learn from Labeled data.\n",
    "1 - House  price Predicting, 2 - Disease Detection, 3 - Sentiment analysis, 4 - Stock price predication"
   ]
  },
  {
   "cell_type": "markdown",
   "id": "cafcd4aa",
   "metadata": {},
   "source": []
  }
 ],
 "metadata": {
  "language_info": {
   "name": "python"
  }
 },
 "nbformat": 4,
 "nbformat_minor": 5
}
