{
 "cells": [
  {
   "cell_type": "markdown",
   "id": "3589164d",
   "metadata": {},
   "source": [
    "## Supervised Learning: Classification"
   ]
  },
  {
   "cell_type": "markdown",
   "id": "d9a1f919",
   "metadata": {},
   "source": [
    "## Types of Supervised Learning\n",
    "### Supervised learning -> continous - Categorical\n",
    "##### Continous - > Regression: \n",
    "House Price Predicator\n",
    "##### Categorical -> classification ->  Binary - Multi-Class\n",
    "##### Binary \n",
    "spam Detecor \n",
    "#### Multi-Class\n",
    "senttiment Analysis"
   ]
  },
  {
   "cell_type": "markdown",
   "id": "bc9667de",
   "metadata": {},
   "source": [
    "## Classification\n",
    "a supervised ML technique used to categorize or assign data points into predefined classes based on their features or attributes\n",
    "\n",
    "###  Example: \n",
    "spam Classifier for emails"
   ]
  }
 ],
 "metadata": {
  "language_info": {
   "name": "python"
  }
 },
 "nbformat": 4,
 "nbformat_minor": 5
}
