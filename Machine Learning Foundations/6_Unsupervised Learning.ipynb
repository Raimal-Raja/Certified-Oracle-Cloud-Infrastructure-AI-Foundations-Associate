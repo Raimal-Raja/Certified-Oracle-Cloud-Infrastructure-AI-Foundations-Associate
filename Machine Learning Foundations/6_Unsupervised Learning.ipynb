{
 "cells": [
  {
   "cell_type": "markdown",
   "id": "4d8195fc",
   "metadata": {},
   "source": [
    "## what is Unsupervised learning ?\n",
    "A type of machine learning where there are no labeled outputs\n",
    "\n",
    "Algorithms learn the patterns in the data and group similar data items"
   ]
  },
  {
   "cell_type": "markdown",
   "id": "ef4863a4",
   "metadata": {},
   "source": [
    "## Clustering\n",
    "clustering is the grouping of similar data items.\n",
    "\n",
    "Data items are more similar within a cluster than the items outside it."
   ]
  },
  {
   "cell_type": "markdown",
   "id": "7c21e5b6",
   "metadata": {},
   "source": [
    "## Use case 1\n",
    "### Market Segmenation\n",
    "#### Action\n",
    "1 - input is purchasing details. \n",
    "2 - identify similar customers based on purchasing behavior.\n",
    "\n",
    "#### Output\n",
    "Target advertisements"
   ]
  },
  {
   "cell_type": "markdown",
   "id": "93e1b916",
   "metadata": {},
   "source": [
    "## Use case 2\n",
    "### Outlier Analysis\n",
    "#### Action\n",
    "1 - input is credit card purchase details.\n",
    "2 - identify  fraudulent transactions."
   ]
  },
  {
   "cell_type": "markdown",
   "id": "4d4584f4",
   "metadata": {},
   "source": [
    "## Similarity \n",
    "Similarity is how close two data points are each other and is a value between 0 and 1"
   ]
  },
  {
   "cell_type": "markdown",
   "id": "76276a15",
   "metadata": {},
   "source": [
    "## Unsupervised Workflow\n",
    "### Prepare the data\n",
    "remove missing values, normalize the data, and perform feature scaling.\n",
    "### Create similarity metrice\n",
    "Choose a similarity metric based on nature of data and clustering algorithm used.\n",
    "### Run Clustering Algorithm\n",
    "Use the chosen similarity metrics to cluster the  data\n",
    "### Interpret results and adjust clustering\n",
    "Check the quality of your clustering output by verifying against expectations iteratively"
   ]
  }
 ],
 "metadata": {
  "kernelspec": {
   "display_name": ".venv",
   "language": "python",
   "name": "python3"
  },
  "language_info": {
   "name": "python",
   "version": "3.12.3"
  }
 },
 "nbformat": 4,
 "nbformat_minor": 5
}
