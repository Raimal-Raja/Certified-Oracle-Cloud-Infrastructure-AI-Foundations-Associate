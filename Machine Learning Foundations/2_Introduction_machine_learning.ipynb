{
 "cells": [
  {
   "cell_type": "markdown",
   "id": "44cc2eab",
   "metadata": {},
   "source": [
    "## What is machine learing?\n"
   ]
  }
 ],
 "metadata": {
  "language_info": {
   "name": "python"
  }
 },
 "nbformat": 4,
 "nbformat_minor": 5
}
