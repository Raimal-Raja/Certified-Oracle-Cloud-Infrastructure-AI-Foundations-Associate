{
 "cells": [
  {
   "cell_type": "markdown",
   "id": "44cc2eab",
   "metadata": {},
   "source": [
    "## What is machine learing?\n",
    "A subset of artificial intelligence that focuses on creating computer systems that can learn and improve from experience\n",
    "\n",
    "Powered by algorithms that incorporate intelligence into machines"
   ]
  },
  {
   "cell_type": "markdown",
   "id": "0b0f6dc6",
   "metadata": {},
   "source": [
    "## Machine Learning is All Around Us\n",
    "ML provides statistical tools to analyze, visualize, and make predications from data.\n",
    "\n",
    "Online shopping\n",
    "Netflix movies suggestions\n",
    "spam mail warning\n",
    "self-driving cars\n",
    "\n"
   ]
  },
  {
   "cell_type": "markdown",
   "id": "029b83f9",
   "metadata": {},
   "source": [
    "## input features and output labels\n",
    "body color, texture, eye color, ear shape, nose color, body shape >> animal"
   ]
  },
  {
   "cell_type": "markdown",
   "id": "395c235f",
   "metadata": {},
   "source": [
    "## Model Training\n",
    "### Training\n",
    "learning new capability from existing data.\n",
    "### Inference\n",
    "Applying this capability to new data"
   ]
  },
  {
   "cell_type": "markdown",
   "id": "3fb0e912",
   "metadata": {},
   "source": [
    "## Types of Machine Learning\n",
    "### 1 - Supervised \n",
    "classify data or make predications\n",
    "### 2 - Unsupervised \n",
    "Understand relationships within datasets\n",
    "### 3- Reinforcement\n",
    "make decisions or choices"
   ]
  },
  {
   "cell_type": "markdown",
   "id": "f74b5b5e",
   "metadata": {},
   "source": [
    "## Machine Learning Use Cases\n",
    "### Supervised\n",
    "1 - Disease detection\n",
    "2 - Weather forcasting\n",
    "3 - stock price predication\n",
    "4 - spam detection\n",
    "5 - credit scoring\n",
    "\n",
    "### Unsupervised\n",
    "1 - Fraudulent transactions detection\n",
    "2 - customer segmentation\n",
    "3 - outlier detection\n",
    "4 - targeted marketing campaigns\n",
    "\n",
    "### Reinforcement\n",
    "1 - Automated robots\n",
    "2 - Autonomous cars\n",
    "3 - Videos games\n",
    "4 - Healthcare"
   ]
  },
  {
   "cell_type": "markdown",
   "id": "b7a49d76",
   "metadata": {},
   "source": []
  }
 ],
 "metadata": {
  "language_info": {
   "name": "python"
  }
 },
 "nbformat": 4,
 "nbformat_minor": 5
}
