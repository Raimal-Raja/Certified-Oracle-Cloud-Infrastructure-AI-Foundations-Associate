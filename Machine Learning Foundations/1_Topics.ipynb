{
 "cells": [
  {
   "cell_type": "markdown",
   "id": "cf4cc8a3",
   "metadata": {},
   "source": [
    "## 1 - Explain Machine learning and its different flavors.\n",
    "## 2 - Describe how supervised learning works.\n",
    "## 3 - Explain Linear Regression and Classification\n",
    "## 4 - unsupervised Learning\n",
    "## 5 - Describe how reinforcement learning works"
   ]
  }
 ],
 "metadata": {
  "language_info": {
   "name": "python"
  }
 },
 "nbformat": 4,
 "nbformat_minor": 5
}
