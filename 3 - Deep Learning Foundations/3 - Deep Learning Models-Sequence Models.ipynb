{
 "cells": [
  {
   "cell_type": "markdown",
   "id": "59e16404",
   "metadata": {},
   "source": [
    "## Sequence Model\n",
    "inputdata is in the form of sequences. the goal is to find patterns and make predications.\n",
    "\n",
    "Speech recognination mode,  NlP, music generation model, time series analysis, gesture  recogniation model\n",
    "\n",
    "## What is Recurrent Neural Network (RNN)?\n",
    "Handles sequential data, maintains a hidden state or memory, allows information to persist using a feedback loop, captures dependencies\n",
    "\n",
    "## Type of RNN architecture\n",
    "one-to-one, (standard non-sequential data like FNN), none to many (music generation  or sequence generation), many-to-one (sentiment analysis based on reviews), Many-to-many Machine translation and named entity recognition\n",
    "\n",
    "## What is long short-term memory?\n",
    "works by using a specialized memory cell and gating mechanisms to caputre long-term dependencies in sequential data\n",
    "\n",
    "selectively remembers or forgets information over time\n",
    "\n",
    "## Step-by-step working of lstm\n",
    "### input processing\n",
    "input current data point in the sequence\n",
    "\n",
    "### Previous Memory\n",
    "Receives the previous hidden state values\n",
    "\n",
    "### Gating Mechanism\n",
    "is the core of LSTM, input gate, forget gate, ouput fate.\n",
    "\n",
    "### Updating Memory\n",
    "updates the cell state by using the information of input gate and forget gat.\n",
    "\n",
    "### Ouput generation\n",
    "Generates the ouput of LSTM for current time step\n"
   ]
  },
  {
   "cell_type": "markdown",
   "id": "9a4bcdf3",
   "metadata": {},
   "source": []
  }
 ],
 "metadata": {
  "language_info": {
   "name": "python"
  }
 },
 "nbformat": 4,
 "nbformat_minor": 5
}
