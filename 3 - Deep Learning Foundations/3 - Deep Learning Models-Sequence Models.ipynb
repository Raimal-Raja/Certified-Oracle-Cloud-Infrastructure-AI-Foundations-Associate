{
 "cells": [
  {
   "cell_type": "markdown",
   "id": "59e16404",
   "metadata": {},
   "source": []
  }
 ],
 "metadata": {
  "language_info": {
   "name": "python"
  }
 },
 "nbformat": 4,
 "nbformat_minor": 5
}
