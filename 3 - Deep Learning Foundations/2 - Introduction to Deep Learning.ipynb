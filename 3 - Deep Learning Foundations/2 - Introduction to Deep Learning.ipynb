{
 "cells": [
  {
   "cell_type": "markdown",
   "id": "a2e0e857",
   "metadata": {},
   "source": [
    "## What is Deep learning\n",
    "A subset of Machine learning that focuses on training Artificial Neural Networks (ANN) with multiple layers\n",
    "\n",
    "Allows them to automatically learn and extract intericate representation from data\n",
    "\n",
    "dataset of handwritten digit images --> handwritten digit 4 --> artificial Neural Network -- > Predicated Outcome; number 4\n",
    "\n",
    "## Why do we need deep learning ?\n",
    "\n",
    "### Ml needs us to specify features\n",
    "### DL extracts features from row and complex data\n",
    "### internal representation of data is built using extracted features\n",
    "### DL algorithms allow parallel processing of data\n",
    "### That leads to better scallability and performance"
   ]
  },
  {
   "cell_type": "markdown",
   "id": "f0a17c1f",
   "metadata": {},
   "source": [
    "## Breif  history of Deep learning\n",
    "### 1950\n",
    "Artificial Neural/Multi-layer Perceptrons\n",
    "\n",
    "### 1980\n",
    "Multi-Layer Perceptrons  with Back Propagation\n",
    "\n",
    "### 1990\n",
    "Convolutional Neural Networks (CNN)\n",
    "\n",
    "### 2010\n",
    "Graphic Processing Units (GPU)\n",
    "\n",
    "### 2012\n",
    "AlexNet, Deep Q-Network\n",
    "\n",
    "### 2016/2017\n",
    "Generative Adversarial Network (GAN), Transformers\n",
    "\n",
    "### Today\n",
    "LLM, Diffusion models"
   ]
  },
  {
   "cell_type": "markdown",
   "id": "3512ae9e",
   "metadata": {},
   "source": [
    "## Type of Deep Learning Algorithms\n",
    "### Data \n",
    "##### Images\n",
    "##### Videos\n",
    "##### Textual Data\n",
    "##### Audio Data\n",
    "\n",
    "### Applications \n",
    "images classification, detection, face recognition, medical images analysis\n",
    "\n",
    "Natural language Processing, speech recognition, sentiment analysis\n",
    "\n",
    "language generation, text summarization, time-series predication, music generation"
   ]
  },
  {
   "cell_type": "markdown",
   "id": "5f2264c9",
   "metadata": {},
   "source": [
    "## Select the Right Deep Learning Algorithm\n",
    "### Deep Learning Algorithms\n"
   ]
  },
  {
   "cell_type": "markdown",
   "id": "2c8ff854",
   "metadata": {},
   "source": [
    "## What  is Artificial Neural Network (ANN)?\n",
    "Inspire by the human brain\n",
    "\n",
    "\n",
    "Consists of interconnected nodes called neurons\n",
    "\n",
    "Process information"
   ]
  },
  {
   "cell_type": "markdown",
   "id": "036265c7",
   "metadata": {},
   "source": [
    "## Building Blocks of ANN\n",
    "1 -  input layer, 2 - hidden layers, 3 - Output layers\n",
    "\n",
    "### Layers\n",
    "input, hidden, and output layers receive inputs, transform it, and produce output\n",
    "\n",
    "### Neurons\n",
    "Computational unit from an input and produces an output\n",
    "\n",
    "### Weights \n",
    "Determines the strength of connection between neurons\n",
    "\n",
    "### Activation Function\n",
    "Works on the weighted sum off inputs to a neuron and produces an output\n",
    "\n",
    "### Bias\n",
    "Additional input to a neuron that allows certain degree of flexibility"
   ]
  },
  {
   "cell_type": "markdown",
   "id": "33cf5610",
   "metadata": {},
   "source": [
    "## How are ANNs trained?\n",
    "Learn using backpropagation algorithm"
   ]
  }
 ],
 "metadata": {
  "language_info": {
   "name": "python"
  }
 },
 "nbformat": 4,
 "nbformat_minor": 5
}
