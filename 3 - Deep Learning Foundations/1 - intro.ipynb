{
 "cells": [
  {
   "cell_type": "markdown",
   "id": "48a59603",
   "metadata": {},
   "source": [
    "## Deep Learning Foundation\n",
    "### Explain Deep Learing concepts.\n",
    "### Describe how convolution neural Networks work.\n",
    "### Provide an overview of sequence models\n"
   ]
  }
 ],
 "metadata": {
  "language_info": {
   "name": "python"
  }
 },
 "nbformat": 4,
 "nbformat_minor": 5
}
