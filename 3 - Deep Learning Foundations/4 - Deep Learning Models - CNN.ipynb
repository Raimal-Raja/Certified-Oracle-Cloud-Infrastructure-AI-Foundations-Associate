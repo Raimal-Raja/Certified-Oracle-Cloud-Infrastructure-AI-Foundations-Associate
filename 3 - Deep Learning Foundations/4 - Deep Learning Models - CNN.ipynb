{
 "cells": [
  {
   "cell_type": "markdown",
   "id": "eb5ad7cb",
   "metadata": {},
   "source": [
    "## Deep Learning Models\n",
    "Feed Forward Neural Networks (FNN), Convolution Neural Networks (CNN), Recurrent Neural Networks (RNN), Autoencoders, Long short-term memory (LSTM), Generative Adversarial Networks (GAN), Transformers,\n",
    "\n",
    "\n",
    "## What is a Convolution Neural Network (CNN)?\n",
    "A type of deep learning model designed for processing grid-like data, Reduces images into an easier-to-process form\n",
    "\n",
    "## CNN Layers-Overview\n",
    "### input  Layer\n",
    "Accepts 3D images with height, width, and depth, representing RCB color channels\n",
    "\n",
    "### Feature Extraction layers\n",
    "Repeating pattern of convolution layer with  ReLu activation function and a pooling layer\n",
    "\n",
    "## Classification layers\n",
    "fully connected ouput layer, where classification occurs"
   ]
  }
 ],
 "metadata": {
  "language_info": {
   "name": "python"
  }
 },
 "nbformat": 4,
 "nbformat_minor": 5
}
