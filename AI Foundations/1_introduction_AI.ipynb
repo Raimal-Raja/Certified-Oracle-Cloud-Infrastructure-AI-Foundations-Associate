{
 "cells": [
  {
   "cell_type": "markdown",
   "id": "0a0a29da",
   "metadata": {},
   "source": [
    "### What is Artification Intelligence?\n",
    "Ability of machines to  mimic the cognitive abilities and problem-solving capabilities of human intelligenece"
   ]
  },
  {
   "cell_type": "markdown",
   "id": "68b6eae2",
   "metadata": {},
   "source": [
    "### Human Intelligence\n",
    "1 - Learns new skills through observation\n",
    "2 - Thinks abstractly and reason\n",
    "3 - communicates using a language and non-verbal cues\n",
    "4 - handles complex situations in real time\n",
    "5 - plans short and long term\n",
    "6 - create art, music and inventions"
   ]
  },
  {
   "cell_type": "markdown",
   "id": "8397dfbc",
   "metadata": {},
   "source": [
    "if we can  replicate any these capabilties in machines, that is Artifical General Intelligence (AGI)"
   ]
  },
  {
   "cell_type": "markdown",
   "id": "de3dd170",
   "metadata": {},
   "source": [
    "When we apply AGI to solve  problems with specific, narrow objectives, we call it Artificial Intelligence (AI)"
   ]
  }
 ],
 "metadata": {
  "language_info": {
   "name": "python"
  }
 },
 "nbformat": 4,
 "nbformat_minor": 5
}
