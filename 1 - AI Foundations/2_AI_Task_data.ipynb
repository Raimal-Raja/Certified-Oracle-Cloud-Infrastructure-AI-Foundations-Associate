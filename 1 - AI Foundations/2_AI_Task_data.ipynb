{
 "cells": [
  {
   "cell_type": "markdown",
   "id": "455ccd1e",
   "metadata": {},
   "source": [
    "### AI - Task and Data"
   ]
  },
  {
   "cell_type": "markdown",
   "id": "cfa5ee90",
   "metadata": {},
   "source": [
    "#### 1 - Language - Related AI Task\n",
    "##### Text-Related AI Task\n",
    "detect language,  extract entities in a text, extract key phrases, understand sentiment of a text, classify txt based on content, translate text"
   ]
  },
  {
   "cell_type": "markdown",
   "id": "dfc63fa0",
   "metadata": {},
   "source": [
    "##### Generative AI Task\n",
    "Create story, poem, summmarize text, answer questions, generate image captions, complete text, convert text to speech"
   ]
  },
  {
   "cell_type": "markdown",
   "id": "93e87925",
   "metadata": {},
   "source": [
    "### 2 - Speech Related Task"
   ]
  },
  {
   "cell_type": "markdown",
   "id": "497d64ce",
   "metadata": {},
   "source": [
    "### 3 - Vison- Related AI Task"
   ]
  },
  {
   "cell_type": "markdown",
   "id": "a51a37de",
   "metadata": {},
   "source": [
    "##### 1 - Image related AI Tasks, 2 - Generative AI Tasks"
   ]
  },
  {
   "cell_type": "markdown",
   "id": "019cf019",
   "metadata": {},
   "source": [
    "## Vison AI Models\n",
    "AI models designed to process and understand visual information from images, and videos\n",
    "\n",
    "### Convolutional Neural Networks\n",
    "detect patterns in images, learning hierarchical representations of visual features\n",
    "\n",
    "### Yolo\n",
    "Processes the images and detects objects within the image\n",
    "\n",
    "### Generative Adversarial Networks\n",
    "Generates real-looking images"
   ]
  },
  {
   "cell_type": "markdown",
   "id": "1ebc1277",
   "metadata": {},
   "source": [
    "## Anomaly Detection\n",
    "## Recommendations\n",
    "## Forecasting"
   ]
  }
 ],
 "metadata": {
  "language_info": {
   "name": "python"
  }
 },
 "nbformat": 4,
 "nbformat_minor": 5
}
