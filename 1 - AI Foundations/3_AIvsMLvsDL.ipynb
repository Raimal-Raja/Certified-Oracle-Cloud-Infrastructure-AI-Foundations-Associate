{
 "cells": [
  {
   "cell_type": "markdown",
   "id": "7231dfd0",
   "metadata": {},
   "source": [
    "## Relationship Between AI, ML,DL\n",
    "### Artificial Intelligence\n",
    "Machine imitate human intelligence\n",
    "\n",
    "### Machine Learning\n",
    "Algorithms learn from past data and predict outcome on new data or to identify trends from past data\n",
    "\n",
    "### Deep Learning\n",
    "Algorithms learn from complex data using neural networks and predict outcomes or generate new data"
   ]
  }
 ],
 "metadata": {
  "language_info": {
   "name": "python"
  }
 },
 "nbformat": 4,
 "nbformat_minor": 5
}
